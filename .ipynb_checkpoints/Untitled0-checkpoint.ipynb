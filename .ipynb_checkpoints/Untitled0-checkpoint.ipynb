{
 "metadata": {
  "name": "",
  "signature": "sha256:f01df5e2776220884f666af1cb359c7df57f01b930ac44f9b24fddfa82f59827"
 },
 "nbformat": 3,
 "nbformat_minor": 0,
 "worksheets": []
}