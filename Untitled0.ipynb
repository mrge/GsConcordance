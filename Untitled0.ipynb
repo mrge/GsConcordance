{
 "metadata": {
  "name": "",
  "signature": "sha256:a82156e02254b6a5df263130ddf0dd44de081a883ca6a9afc5043f2c8e823099"
 },
 "nbformat": 3,
 "nbformat_minor": 0,
 "worksheets": [
  {
   "cells": [
    {
     "cell_type": "code",
     "collapsed": false,
     "input": [
      "import re\n",
      "def get_words_from_string(s):\n",
      "    return set(re.findall(re.compile('\\w+'), s.lower()))\n",
      "\n",
      "def get_words_from_file(fname):\n",
      "    with open(fname, 'rb') as inf:\n",
      "        return get_words_from_string(inf.read())\n",
      "\n",
      "def all_words(needle, haystack):\n",
      "    return set(needle).issubset(set(haystack))\n",
      "\n",
      "def any_words(needle, haystack):\n",
      "    return set(needle).intersection(set(haystack))\n",
      "\n",
      "def is_end_of_sentence(word):\n",
      "    import re\n",
      "    sentenceEnders = re.compile(r\"\"\"\n",
      "        # Split sentences on whitespace between them.\n",
      "        (?:               # Group for two positive lookbehinds.\n",
      "          (?<=[.!?])      # Either an end of sentence punct,\n",
      "        | (?<=[.!?]['\"])  # or end of sentence punct and quote.\n",
      "        )                 # End group of two positive lookbehinds.\n",
      "        (?<!  Mr\\.   )    # Don't end sentence on \"Mr.\"\n",
      "        (?<!  Mrs\\.  )    # Don't end sentence on \"Mrs.\"\n",
      "        (?<!  Jr\\.   )    # Don't end sentence on \"Jr.\"\n",
      "        (?<!  Dr\\.   )    # Don't end sentence on \"Dr.\"\n",
      "        (?<!  Prof\\. )    # Don't end sentence on \"Prof.\"\n",
      "        (?<!  Sr\\.   )    # Don't end sentence on \"Sr.\"\n",
      "        #\\s+               # Split on whitespace between sentences.\n",
      "        \"\"\", \n",
      "        re.IGNORECASE | re.VERBOSE)\n",
      "    return sentenceEnders.search(word) is not None"
     ],
     "language": "python",
     "metadata": {},
     "outputs": [],
     "prompt_number": 43
    },
    {
     "cell_type": "code",
     "collapsed": false,
     "input": [
      "s = 'Hello my friend. This is Mr. a sample Text.\\nSecond line start here.'\n",
      "lines = s.splitlines()\n",
      "c_lines = 1\n",
      "c_words = 1\n",
      "c_sentence = 1\n",
      "for line in lines:\n",
      "    wordset = line.split()\n",
      "    for word in wordset:\n",
      "        print word + ' (' + re.sub('[^A-Za-z0-9]+', '', word) + ')'\n",
      "        print 'line: ' + str(c_lines) + ' word: ' + str(c_words) + ' sentence: ' + str(c_sentence) \n",
      "        if is_end_of_sentence(word): c_sentence += 1\n",
      "        print Word.objects.filter(value=word).exists()\n",
      "        print '-----'\n",
      "        c_words += 1\n",
      "    c_lines += 1\n",
      "#wordset"
     ],
     "language": "python",
     "metadata": {},
     "outputs": [
      {
       "output_type": "stream",
       "stream": "stdout",
       "text": [
        "Hello (Hello)\n",
        "line: 1 word: 1 sentence: 1\n",
        "None\n",
        "False"
       ]
      },
      {
       "output_type": "stream",
       "stream": "stdout",
       "text": [
        "\n",
        "-----\n",
        "my (my)\n",
        "line: 1 word: 2 sentence: 1\n",
        "None\n",
        "False"
       ]
      },
      {
       "output_type": "stream",
       "stream": "stdout",
       "text": [
        "\n",
        "-----\n",
        "friend. (friend)\n",
        "line: 1 word: 3 sentence: 1\n",
        "<_sre.SRE_Match object at 0x0475CE20>\n",
        "False"
       ]
      },
      {
       "output_type": "stream",
       "stream": "stdout",
       "text": [
        "\n",
        "-----\n",
        "This (This)\n",
        "line: 1 word: 4 sentence: 2\n",
        "None\n",
        "False"
       ]
      },
      {
       "output_type": "stream",
       "stream": "stdout",
       "text": [
        "\n",
        "-----\n",
        "is (is)\n",
        "line: 1 word: 5 sentence: 2\n",
        "None\n",
        "False"
       ]
      },
      {
       "output_type": "stream",
       "stream": "stdout",
       "text": [
        "\n",
        "-----\n",
        "Mr. (Mr)\n",
        "line: 1 word: 6 sentence: 2\n",
        "None\n",
        "False"
       ]
      },
      {
       "output_type": "stream",
       "stream": "stdout",
       "text": [
        "\n",
        "-----\n",
        "a (a)\n",
        "line: 1 word: 7 sentence: 2\n",
        "None\n",
        "False"
       ]
      },
      {
       "output_type": "stream",
       "stream": "stdout",
       "text": [
        "\n",
        "-----\n",
        "sample (sample)\n",
        "line: 1 word: 8 sentence: 2\n",
        "None\n",
        "False"
       ]
      },
      {
       "output_type": "stream",
       "stream": "stdout",
       "text": [
        "\n",
        "-----\n",
        "Text. (Text)\n",
        "line: 1 word: 9 sentence: 2\n",
        "<_sre.SRE_Match object at 0x0475CE20>\n",
        "False"
       ]
      },
      {
       "output_type": "stream",
       "stream": "stdout",
       "text": [
        "\n",
        "-----\n",
        "Second (Second)\n",
        "line: 2 word: 10 sentence: 3\n",
        "None\n",
        "False"
       ]
      },
      {
       "output_type": "stream",
       "stream": "stdout",
       "text": [
        "\n",
        "-----\n",
        "line (line)\n",
        "line: 2 word: 11 sentence: 3\n",
        "None\n",
        "False"
       ]
      },
      {
       "output_type": "stream",
       "stream": "stdout",
       "text": [
        "\n",
        "-----\n",
        "start (start)\n",
        "line: 2 word: 12 sentence: 3\n",
        "None\n",
        "False"
       ]
      },
      {
       "output_type": "stream",
       "stream": "stdout",
       "text": [
        "\n",
        "-----\n",
        "here. (here)\n",
        "line: 2 word: 13 sentence: 3\n",
        "<_sre.SRE_Match object at 0x0475CE20>\n",
        "False"
       ]
      },
      {
       "output_type": "stream",
       "stream": "stdout",
       "text": [
        "\n",
        "-----\n"
       ]
      }
     ],
     "prompt_number": 47
    },
    {
     "cell_type": "code",
     "collapsed": false,
     "input": [
      "sentenceEnders = re.compile(r\"\"\"\n",
      "        # Split sentences on whitespace between them.\n",
      "        (?:               # Group for two positive lookbehinds.\n",
      "          (?<=[.!?])      # Either an end of sentence punct,\n",
      "        | (?<=[.!?]['\"])  # or end of sentence punct and quote.\n",
      "        )                 # End group of two positive lookbehinds.\n",
      "        (?<!  Mr\\.   )    # Don't end sentence on \"Mr.\"\n",
      "        (?<!  Mrs\\.  )    # Don't end sentence on \"Mrs.\"\n",
      "        (?<!  Jr\\.   )    # Don't end sentence on \"Jr.\"\n",
      "        (?<!  Dr\\.   )    # Don't end sentence on \"Dr.\"\n",
      "        (?<!  Prof\\. )    # Don't end sentence on \"Prof.\"\n",
      "        (?<!  Sr\\.   )    # Don't end sentence on \"Sr.\"\n",
      "        #\\s+                Split on whitespace between sentences.\n",
      "        \"\"\", \n",
      "        re.IGNORECASE | re.VERBOSE)\n",
      "print sentenceEnders.search('Hey!')"
     ],
     "language": "python",
     "metadata": {},
     "outputs": [
      {
       "output_type": "stream",
       "stream": "stdout",
       "text": [
        "<_sre.SRE_Match object at 0x03398838>\n"
       ]
      }
     ],
     "prompt_number": 40
    },
    {
     "cell_type": "code",
     "collapsed": false,
     "input": [
      "Word.objects.get(value='hey')\n"
     ],
     "language": "python",
     "metadata": {},
     "outputs": [
      {
       "ename": "DoesNotExist",
       "evalue": "Word matching query does not exist. Lookup parameters were {'value': 'hey'}",
       "output_type": "pyerr",
       "traceback": [
        "\u001b[1;31m---------------------------------------------------------------------------\u001b[0m\n\u001b[1;31mDoesNotExist\u001b[0m                              Traceback (most recent call last)",
        "\u001b[1;32m<ipython-input-48-02d09ab9d733>\u001b[0m in \u001b[0;36m<module>\u001b[1;34m()\u001b[0m\n\u001b[1;32m----> 1\u001b[1;33m \u001b[0mWord\u001b[0m\u001b[1;33m.\u001b[0m\u001b[0mobjects\u001b[0m\u001b[1;33m.\u001b[0m\u001b[0mget\u001b[0m\u001b[1;33m(\u001b[0m\u001b[0mvalue\u001b[0m\u001b[1;33m=\u001b[0m\u001b[1;34m'hey'\u001b[0m\u001b[1;33m)\u001b[0m\u001b[1;33m\u001b[0m\u001b[0m\n\u001b[0m",
        "\u001b[1;32mC:\\Python27\\lib\\site-packages\\django\\db\\models\\manager.pyc\u001b[0m in \u001b[0;36mget\u001b[1;34m(self, *args, **kwargs)\u001b[0m\n\u001b[0;32m    141\u001b[0m \u001b[1;33m\u001b[0m\u001b[0m\n\u001b[0;32m    142\u001b[0m     \u001b[1;32mdef\u001b[0m \u001b[0mget\u001b[0m\u001b[1;33m(\u001b[0m\u001b[0mself\u001b[0m\u001b[1;33m,\u001b[0m \u001b[1;33m*\u001b[0m\u001b[0margs\u001b[0m\u001b[1;33m,\u001b[0m \u001b[1;33m**\u001b[0m\u001b[0mkwargs\u001b[0m\u001b[1;33m)\u001b[0m\u001b[1;33m:\u001b[0m\u001b[1;33m\u001b[0m\u001b[0m\n\u001b[1;32m--> 143\u001b[1;33m         \u001b[1;32mreturn\u001b[0m \u001b[0mself\u001b[0m\u001b[1;33m.\u001b[0m\u001b[0mget_query_set\u001b[0m\u001b[1;33m(\u001b[0m\u001b[1;33m)\u001b[0m\u001b[1;33m.\u001b[0m\u001b[0mget\u001b[0m\u001b[1;33m(\u001b[0m\u001b[1;33m*\u001b[0m\u001b[0margs\u001b[0m\u001b[1;33m,\u001b[0m \u001b[1;33m**\u001b[0m\u001b[0mkwargs\u001b[0m\u001b[1;33m)\u001b[0m\u001b[1;33m\u001b[0m\u001b[0m\n\u001b[0m\u001b[0;32m    144\u001b[0m \u001b[1;33m\u001b[0m\u001b[0m\n\u001b[0;32m    145\u001b[0m     \u001b[1;32mdef\u001b[0m \u001b[0mget_or_create\u001b[0m\u001b[1;33m(\u001b[0m\u001b[0mself\u001b[0m\u001b[1;33m,\u001b[0m \u001b[1;33m**\u001b[0m\u001b[0mkwargs\u001b[0m\u001b[1;33m)\u001b[0m\u001b[1;33m:\u001b[0m\u001b[1;33m\u001b[0m\u001b[0m\n",
        "\u001b[1;32mC:\\Python27\\lib\\site-packages\\django\\db\\models\\query.pyc\u001b[0m in \u001b[0;36mget\u001b[1;34m(self, *args, **kwargs)\u001b[0m\n\u001b[0;32m    387\u001b[0m                 \u001b[1;34m\"%s matching query does not exist. \"\u001b[0m\u001b[1;33m\u001b[0m\u001b[0m\n\u001b[0;32m    388\u001b[0m                 \u001b[1;34m\"Lookup parameters were %s\"\u001b[0m \u001b[1;33m%\u001b[0m\u001b[1;33m\u001b[0m\u001b[0m\n\u001b[1;32m--> 389\u001b[1;33m                 (self.model._meta.object_name, kwargs))\n\u001b[0m\u001b[0;32m    390\u001b[0m         raise self.model.MultipleObjectsReturned(\n\u001b[0;32m    391\u001b[0m             \u001b[1;34m\"get() returned more than one %s -- it returned %s! \"\u001b[0m\u001b[1;33m\u001b[0m\u001b[0m\n",
        "\u001b[1;31mDoesNotExist\u001b[0m: Word matching query does not exist. Lookup parameters were {'value': 'hey'}"
       ]
      }
     ],
     "prompt_number": 48
    },
    {
     "cell_type": "code",
     "collapsed": false,
     "input": [
      "from django.conf import settings\n",
      "from django.core.files import File as pFile\n",
      "print settings.MEDIA_ROOT\n",
      "print settings.DATABASES\n",
      "thisfile = File.objects.all()[0]\n",
      "thisfile.original.path\n",
      "#print thisfile\n",
      "f = open(thisfile.original.path, 'r')\n",
      "orgfile = pFile(f)\n",
      "print thisfile.original.path\n",
      "fulltext = orgfile.read()\n",
      "#print fulltext\n",
      "thisfile.loadtext(fulltext)\n",
      "#fulltext"
     ],
     "language": "python",
     "metadata": {},
     "outputs": [
      {
       "output_type": "stream",
       "stream": "stdout",
       "text": [
        "d:\\sadna\n",
        "{'default': {'ENGINE': 'django.db.backends.mysql', 'TEST_MIRROR': None, 'NAME': 'projectsadna', 'TEST_CHARSET': None, 'TIME_ZONE': 'UTC', 'TEST_COLLATION': None, 'OPTIONS': {}, 'HOST': '127.0.0.1', 'USER': 'root', 'TEST_NAME': None, 'PASSWORD': '', 'PORT': '3306'}}\n",
        "d:\\sadna\\textfiles\\TheAdventuresOfTomSawyer.txt\n"
       ]
      }
     ],
     "prompt_number": 4
    },
    {
     "cell_type": "code",
     "collapsed": false,
     "input": [
      "import os\n",
      "LOGFILE_ROOT = os.environ['FEEDSME_LOG_PATH']\n",
      "print LOGFILE_ROOT.upper()\n",
      "dic = {}\n",
      "dic['aaa']=1\n",
      "dic['bbb']=1\n",
      "print dic\n",
      "dic['aaa']\n",
      "print dic.get('aass')\n",
      "print dic.get('aAa')\n",
      "print len(dic)\n",
      "d = []\n",
      "d.append('aa')\n",
      "d.append('aad')\n",
      "d.append('aag')\n",
      "print d\n",
      "print len(d)"
     ],
     "language": "python",
     "metadata": {},
     "outputs": [
      {
       "output_type": "stream",
       "stream": "stdout",
       "text": [
        "C:\\FEEDSME\\LOGS\\\n",
        "{'aaa': 1, 'bbb': 1}\n",
        "None\n",
        "None\n",
        "2\n",
        "['aa', 'aad', 'aag']\n",
        "3\n"
       ]
      }
     ],
     "prompt_number": 5
    },
    {
     "cell_type": "code",
     "collapsed": false,
     "input": [
      "from django.db import connection,reset_queries\n",
      "import json\n",
      "from django.utils import simplejson\n",
      "from django.core.serializers.json import DjangoJSONEncoder\n",
      "reset_queries()\n",
      "words = Word.objects.all().values_list('value')\n",
      "print connection.queries \n",
      "print '----------'\n",
      "print words.filter(value='TOM').exists()\n",
      "print '----------'\n",
      "print connection.queries \n",
      "print '----------'\n",
      "print words.filter(value='SAWYER').exists()\n",
      "print '----------'\n",
      "print connection.queries \n",
      "print '----------'\n",
      "print words.filter(value='TOM').exists()\n",
      "print '----------'\n",
      "print connection.queries \n",
      "print '----------'\n",
      "\n",
      "#lwords = list(words)\n",
      "#lwords\n",
      "#dwords = json.loads(json.dumps(list(words), cls=DjangoJSONEncoder))\n",
      "#dwords\n",
      "#len(lwords)"
     ],
     "language": "python",
     "metadata": {},
     "outputs": [
      {
       "output_type": "stream",
       "stream": "stdout",
       "text": [
        "[]\n",
        "----------\n",
        "True\n",
        "----------\n",
        "[{u'time': u'0.001', u'sql': u\"SELECT (1) AS `a` FROM `words_word` WHERE `words_word`.`value` = 'TOM'  LIMIT 1\"}]\n",
        "----------\n",
        "True\n",
        "----------\n",
        "[{u'time': u'0.001', u'sql': u\"SELECT (1) AS `a` FROM `words_word` WHERE `words_word`.`value` = 'TOM'  LIMIT 1\"}, {u'time': u'0.000', u'sql': u\"SELECT (1) AS `a` FROM `words_word` WHERE `words_word`.`value` = 'SAWYER'  LIMIT 1\"}]\n",
        "----------\n",
        "True\n",
        "----------\n",
        "[{u'time': u'0.001', u'sql': u\"SELECT (1) AS `a` FROM `words_word` WHERE `words_word`.`value` = 'TOM'  LIMIT 1\"}, {u'time': u'0.000', u'sql': u\"SELECT (1) AS `a` FROM `words_word` WHERE `words_word`.`value` = 'SAWYER'  LIMIT 1\"}, {u'time': u'0.000', u'sql': u\"SELECT (1) AS `a` FROM `words_word` WHERE `words_word`.`value` = 'TOM'  LIMIT 1\"}]\n",
        "----------\n"
       ]
      }
     ],
     "prompt_number": 33
    },
    {
     "cell_type": "code",
     "collapsed": false,
     "input": [
      "file_id=1\n",
      "word_id = 86\n",
      "\n",
      "#words_list = FileWord.objects.select_related().filter(file_id__exact=file_id).values('word__id','word__value').annotate(total=Count('word__id')).order_by('word__value')\n",
      "#words_list\n",
      "filewords = FileWord.objects.raw('CALL SP_GET_WORD_BY_WORD_ID(%s,%s);',[word_id,file_id])\n",
      "print filewords\n",
      "for fileword in filewords:\n",
      "    fileword.sample_text = fileword.sample_text.replace(fileword.word_value,'<b>' + fileword.word_value + '<b/>')\n",
      "    print fileword.sample_text"
     ],
     "language": "python",
     "metadata": {},
     "outputs": [
      {
       "output_type": "stream",
       "stream": "stdout",
       "text": [
        "<RawQuerySet: 'CALL SP_GET_WORD_BY_WORD_ID(86,1);'>\n",
        "Decides Upon her Duty--Tom Practices Music--The Challenge--<b>A<b/> Private Entrance CH<b>A<b/>PTER II. Strong Temptations--Strategic Movements--The Innocents Beguiled CH<b>A<b/>PTER III. Tom as a General--Triumph and Reward--Dismal Felicity--Commission and Omission CH<b>A<b/>PTER IV. Mental <b>A<b/>crobatics--<b>A<b/>ttending Sunday--School--The Superintendent--\"Showing off\"--Tom Lionized CH<b>A<b/>PTER V. <b>A<b/> Useful Minister--In Church--The\n",
        "III. Tom as a General--Triumph and Reward--Dismal Felicity--Commission and Omission CH<b>A<b/>PTER IV. Mental <b>A<b/>crobatics--<b>A<b/>ttending Sunday--School--The Superintendent--\"Showing off\"--Tom Lionized CH<b>A<b/>PTER V. <b>A<b/> Useful Minister--In Church--The Climax CH<b>A<b/>PTER VI. Self-Examination--Dentistry--The Midnight Charm--Witches and Devils--Cautious <b>A<b/>pproaches--Happy Hours CH<b>A<b/>PTER VII. <b>A<b/> Treaty Entered Into--Early Lessons--<b>A<b/>\n",
        "off\"--Tom Lionized CH<b>A<b/>PTER V. <b>A<b/> Useful Minister--In Church--The Climax CH<b>A<b/>PTER VI. Self-Examination--Dentistry--The Midnight Charm--Witches and Devils--Cautious <b>A<b/>pproaches--Happy Hours CH<b>A<b/>PTER VII. <b>A<b/> Treaty Entered Into--Early Lessons--<b>A<b/> Mistake Made CH<b>A<b/>PTER VIII. Tom Decides on his Course--Old Scenes Re-enacted CH<b>A<b/>PTER IX. <b>A<b/> Solemn Situation--Grave\n",
        "CH<b>A<b/>PTER VII. <b>A<b/> Treaty Entered Into--Early Lessons--<b>A<b/> Mistake Made CH<b>A<b/>PTER VIII. Tom Decides on his Course--Old Scenes Re-enacted CH<b>A<b/>PTER IX. <b>A<b/> Solemn Situation--Grave Subjects Introduced--Injun Joe Explains CH<b>A<b/>PTER X. The Solemn Oath--Terror Brings Repentance--Mental Punishment CH<b>A<b/>PTER XI. Muff Potter Comes Himself--Tom's\n",
        "Camp--Fire Talk CH<b>A<b/>PTER XIV. Camp-Life--<b>A<b/> Sensation--Tom Steals <b>A<b/>way from Camp CH<b>A<b/>PTER XV. Tom Reconnoiters--Learns the Situation--Reports at Camp CH<b>A<b/>PTER XVI. <b>A<b/> Day's <b>A<b/>musements--Tom Reveals a Secret--The Pirates take a Lesson--<b>A<b/> Night Surprise--<b>A<b/>n Indian War CH<b>A<b/>PTER XVII. Memories of the Lost Heroes--The\n",
        "Camp-Life--<b>A<b/> Sensation--Tom Steals <b>A<b/>way from Camp CH<b>A<b/>PTER XV. Tom Reconnoiters--Learns the Situation--Reports at Camp CH<b>A<b/>PTER XVI. <b>A<b/> Day's <b>A<b/>musements--Tom Reveals a Secret--The Pirates take a Lesson--<b>A<b/> Night Surprise--<b>A<b/>n Indian War CH<b>A<b/>PTER XVII. Memories of the Lost Heroes--The Point in Tom's Secret\n",
        "from Camp CH<b>A<b/>PTER XV. Tom Reconnoiters--Learns the Situation--Reports at Camp CH<b>A<b/>PTER XVI. <b>A<b/> Day's <b>A<b/>musements--Tom Reveals a Secret--The Pirates take a Lesson--<b>A<b/> Night Surprise--<b>A<b/>n Indian War CH<b>A<b/>PTER XVII. Memories of the Lost Heroes--The Point in Tom's Secret CH<b>A<b/>PTER XVIII. Tom's Feelings\n",
        "XVIII. Tom's Feelings Investigated--Wonderful Dream--Becky Thatcher Overshadowed--Tom Becomes Jealous--Black Revenge CH<b>A<b/>PTER XIX. Tom Tells the Truth CH<b>A<b/>PTER XX. Becky in a Dilemma--Tom's Nobility <b>A<b/>sserts Itself CH<b>A<b/>PTER XXI. Youthful Eloquence--Compositions by the Young Ladies--<b>A<b/> Lengthy Vision--The Boy's Vengeance Satisfied CH<b>A<b/>PTER XXII. Tom's\n",
        "The Pic-nic--Huck on Injun Joe's Track--The \"Revenge\" Job--<b>A<b/>id for the Widow CH<b>A<b/>PTER XXX. The Welchman Reports--Huck Under Fire--The Story Circulated --<b>A<b/> New Sensation--Hope Giving Way to Despair CH<b>A<b/>PTER XXXI. <b>A<b/>n Exploring Expedition--Trouble Commences--Lost in the Cave--Total Darkness--Found but not Saved CH<b>A<b/>PTER\n",
        "Compare Notes --<b>A<b/>n Expedition to the Cave--Protection <b>A<b/>gainst Ghosts--\"<b>A<b/>n <b>A<b/>wful Snug Place\"--<b>A<b/> Reception at the Widow Douglas's CH<b>A<b/>PTER XXXIV. Springing a Secret--Mr. Jones' Surprise a Failure CH<b>A<b/>PTER XXXV. <b>A<b/> New Order of Things--Poor Huck--New <b>A<b/>dventures Planned ILLUSTR<b>A<b/>TIONS Tom Sawyer Tom at\n",
        "to the Cave--Protection <b>A<b/>gainst Ghosts--\"<b>A<b/>n <b>A<b/>wful Snug Place\"--<b>A<b/> Reception at the Widow Douglas's CH<b>A<b/>PTER XXXIV. Springing a Secret--Mr. Jones' Surprise a Failure CH<b>A<b/>PTER XXXV. <b>A<b/> New Order of Things--Poor Huck--New <b>A<b/>dventures Planned ILLUSTR<b>A<b/>TIONS Tom Sawyer Tom at Home <b>A<b/>unt Polly Beguiled\n",
        "Ghosts--\"<b>A<b/>n <b>A<b/>wful Snug Place\"--<b>A<b/> Reception at the Widow Douglas's CH<b>A<b/>PTER XXXIV. Springing a Secret--Mr. Jones' Surprise a Failure CH<b>A<b/>PTER XXXV. <b>A<b/> New Order of Things--Poor Huck--New <b>A<b/>dventures Planned ILLUSTR<b>A<b/>TIONS Tom Sawyer Tom at Home <b>A<b/>unt Polly Beguiled <b>A<b/> Good Opportunity Who's\n",
        "Failure CH<b>A<b/>PTER XXXV. <b>A<b/> New Order of Things--Poor Huck--New <b>A<b/>dventures Planned ILLUSTR<b>A<b/>TIONS Tom Sawyer Tom at Home <b>A<b/>unt Polly Beguiled <b>A<b/> Good Opportunity Who's <b>A<b/>fraid Late Home Jim 'Tendin' to Business <b>A<b/>in't that Work? Cat and Toys <b>A<b/>musement Becky Thatcher Paying\n",
        "Battle \"Showing Off\" Not <b>A<b/>miss Mary Tom Contemplating Dampened <b>A<b/>rdor Youth Boyhood Using the \"Barlow\" The Church Necessities Tom as a Sunday-School Hero\u00a0\u00a0\u00a0\u00a0 The Prize <b>A<b/>t Church The Model Boy The Church Choir <b>A<b/> Side Show Result of Playing in Church\n",
        "the \"Barlow\" The Church Necessities Tom as a Sunday-School Hero\u00a0\u00a0\u00a0\u00a0 The Prize <b>A<b/>t Church The Model Boy The Church Choir <b>A<b/> Side Show Result of Playing in Church The Pinch-Bug Sid Dentistry Huckleberry Finn Mother Hopkins Result of Tom's Truthfulness Tom\n",
        "Tom's Effort at Prayer Muff Potter Outwitted The Graveyard Forewarnings Disturbing Muff's Sleep Tom's Talk with his <b>A<b/>unt Muff Potter <b>A<b/> Suspicious Incident Injun Joe's two Victims In the Coils Peter <b>A<b/>unt Polly seeks Information <b>A<b/> General Good Time Demoralized Joe\n",
        "with his <b>A<b/>unt Muff Potter <b>A<b/> Suspicious Incident Injun Joe's two Victims In the Coils Peter <b>A<b/>unt Polly seeks Information <b>A<b/> General Good Time Demoralized Joe Harper On Board Their First Prize The Pirates <b>A<b/>shore Wild Life The Pirate's Bath The\n",
        "Joe's Knife\u00a0\u00a0\u00a0\u00a0 The Thunder Storm Terrible Slaughter The Mourner Tom's Proudest Moment <b>A<b/>my Lawrence Tom tries to Remember The Hero <b>A<b/> Flirtation Becky Retaliates <b>A<b/> Sudden Frost Counter-irritation <b>A<b/>unt Polly Tom justified The Discovery Caught in the <b>A<b/>ct Tom <b>A<b/>stonishes the\n",
        "Storm Terrible Slaughter The Mourner Tom's Proudest Moment <b>A<b/>my Lawrence Tom tries to Remember The Hero <b>A<b/> Flirtation Becky Retaliates <b>A<b/> Sudden Frost Counter-irritation <b>A<b/>unt Polly Tom justified The Discovery Caught in the <b>A<b/>ct Tom <b>A<b/>stonishes the School Literature Tom Declaims\n",
        "Melons The Judge Visiting the Prisoner Tom Swears The Court Room The Detective Tom Dreams The Treasure The Private Conference <b>A<b/> King; Poor Fellow! Business The Ha'nted House Injun Joe The Greatest and Best Hidden Treasures Unearthed The Boy's Salvation Room\n",
        "Uncle Jake Buck at Home The Haunted Room \"Run for Your Life\" McDougal's Cave Inside the Cave Huck on Duty <b>A<b/> Rousing <b>A<b/>ct Tail Piece The Welchman Result of a Sneeze Cornered <b>A<b/>larming Discoveries Tom and Becky stir up the Town\n",
        "for Your Life\" McDougal's Cave Inside the Cave Huck on Duty <b>A<b/> Rousing <b>A<b/>ct Tail Piece The Welchman Result of a Sneeze Cornered <b>A<b/>larming Discoveries Tom and Becky stir up the Town Tom's Marks Huck Questions the Widow Vampires Wonders of\n",
        "the Town Tom's Marks Huck Questions the Widow Vampires Wonders of the Cave <b>A<b/>ttacked by Natives Despair The Wedding Cake <b>A<b/> New Terror Daylight \"Turn Out\" to Receive Tom and Becky The Escape from the Cave Fate of the Ragged Man\n",
        "The Escape from the Cave Fate of the Ragged Man The Treasures Found Caught at Last Drop after Drop Having a Good Time <b>A<b/> Business Trip \"Got it at Last!\" Tail Piece Widow Douglas Tom Backs his Statement Tail Piece Huck\n",
        "the Cave Fate of the Ragged Man The Treasures Found Caught at Last Drop after Drop Having a Good Time <b>A<b/> Business Trip \"Got it at Last!\" Tail Piece Widow Douglas Tom Backs his Statement Tail Piece Huck Transformed Comfortable Once\n",
        "who were schoolmates of mine. Huck Finn is drawn from life; Tom Sawyer also, but not from an individual--he is a combination of the characteristics of three boys whom I knew, and therefore belongs to the composite order of architecture. The\n"
       ]
      }
     ],
     "prompt_number": 24
    },
    {
     "cell_type": "code",
     "collapsed": false,
     "input": [
      "from django.core.files.storage import default_storage, FileSystemStorage\n",
      "from django.core.files import File as pFile\n",
      "from django.db import models\n",
      "from words.models import Word\n",
      "import logging\n",
      "from general.models import Objectbase, Author\n",
      "from general.tools import print_error,print_log\n",
      "import threading\n",
      "\n",
      "fileobj=File.objects.get(pk=3)  \n",
      "#fileobj = kwargs['fileobj']\n",
      "f = open(fileobj.original.path, 'r')\n",
      "orgfile = pFile(f)\n",
      "fulltext = orgfile.read()\n",
      "fileobj.loadtext(fulltext)\n"
     ],
     "language": "python",
     "metadata": {},
     "outputs": [
      {
       "output_type": "stream",
       "stream": "stderr",
       "text": [
        "general\\tools.py:13: DeprecationWarning: BaseException.message has been deprecated as of Python 2.6\n",
        "  print_log(str(e.message),level,withprint=withprint,error=True, extramsg=extramsg)\n",
        "\n"
       ]
      },
      {
       "output_type": "stream",
       "stream": "stdout",
       "text": [
        "('DEBUG', ' - ', \"<type 'log'>; file: files\\\\models.py; function: loadtext; line: 46; Start load text for file: 3\")\n",
        "('DEBUG', ' - ', \"<class '_mysql_exceptions.Warning'>; file: files/models.py; function: loadtext; line: 79; Incorrect string value: '\\\\xEF\\\\xBB\\\\xBF' for column 'word_original' at row 1\\nstack line3: file: <ipython-input-1-5fd22a6a1db9>; function: <module>; line: 15; data: [u'fileobj.loadtext(fulltext)\\\\n']\")"
       ]
      },
      {
       "output_type": "stream",
       "stream": "stdout",
       "text": [
        "\n",
        "('DEBUG', ' - ', \"<type 'log'>; file: files\\\\models.py; function: loadtext; line: 84; End load text for file: 3\")"
       ]
      },
      {
       "output_type": "stream",
       "stream": "stdout",
       "text": [
        "\n"
       ]
      },
      {
       "output_type": "stream",
       "stream": "stderr",
       "text": [
        "Traceback (most recent call last):\n",
        "  File \"C:\\Python27\\lib\\logging\\handlers.py\", line 77, in emit\n",
        "    self.doRollover()\n",
        "  File \"C:\\Python27\\lib\\logging\\handlers.py\", line 346, in doRollover\n",
        "    os.rename(self.baseFilename, dfn)\n",
        "WindowsError: [Error 32] The process cannot access the file because it is being used by another process\n",
        "Logged from file tools.py, line 13\n"
       ]
      }
     ],
     "prompt_number": 1
    },
    {
     "cell_type": "code",
     "collapsed": false,
     "input": [
      "file_id=1\n",
      "word_id = 86\n",
      "filewords = FileWord.objects.raw('CALL SP_GET_WORD_BY_WORD_ID(%s,%s);',[word_id,file_id])\n",
      "len(filewords)"
     ],
     "language": "python",
     "metadata": {},
     "outputs": [
      {
       "ename": "TypeError",
       "evalue": "object of type 'RawQuerySet' has no len()",
       "output_type": "pyerr",
       "traceback": [
        "\u001b[1;31m---------------------------------------------------------------------------\u001b[0m\n\u001b[1;31mTypeError\u001b[0m                                 Traceback (most recent call last)",
        "\u001b[1;32m<ipython-input-3-dc478c5a41fd>\u001b[0m in \u001b[0;36m<module>\u001b[1;34m()\u001b[0m\n\u001b[0;32m      2\u001b[0m \u001b[0mword_id\u001b[0m \u001b[1;33m=\u001b[0m \u001b[1;36m86\u001b[0m\u001b[1;33m\u001b[0m\u001b[0m\n\u001b[0;32m      3\u001b[0m \u001b[0mfilewords\u001b[0m \u001b[1;33m=\u001b[0m \u001b[0mFileWord\u001b[0m\u001b[1;33m.\u001b[0m\u001b[0mobjects\u001b[0m\u001b[1;33m.\u001b[0m\u001b[0mraw\u001b[0m\u001b[1;33m(\u001b[0m\u001b[1;34m'CALL SP_GET_WORD_BY_WORD_ID(%s,%s);'\u001b[0m\u001b[1;33m,\u001b[0m\u001b[1;33m[\u001b[0m\u001b[0mword_id\u001b[0m\u001b[1;33m,\u001b[0m\u001b[0mfile_id\u001b[0m\u001b[1;33m]\u001b[0m\u001b[1;33m)\u001b[0m\u001b[1;33m\u001b[0m\u001b[0m\n\u001b[1;32m----> 4\u001b[1;33m \u001b[0mlen\u001b[0m\u001b[1;33m(\u001b[0m\u001b[0mfilewords\u001b[0m\u001b[1;33m)\u001b[0m\u001b[1;33m\u001b[0m\u001b[0m\n\u001b[0m",
        "\u001b[1;31mTypeError\u001b[0m: object of type 'RawQuerySet' has no len()"
       ]
      }
     ],
     "prompt_number": 3
    },
    {
     "cell_type": "code",
     "collapsed": false,
     "input": [
      "from general.tools import query_to_list, print_log, print_error\n",
      "from django.db import connection,reset_queries\n",
      "reset_queries()\n",
      "\n",
      "#stats_list = query_to_list('CALL SP_GET_STATS_BY_FILE_ID(%s)',[1])         \n",
      "cursor = connection.cursor()\n",
      "cursor.execute('CALL SP_GET_WORDS_BY_FILE_ID();')\n",
      "cursor.fetchall()\n",
      "print connection.queries \n",
      "#stats_list"
     ],
     "language": "python",
     "metadata": {},
     "outputs": [
      {
       "output_type": "stream",
       "stream": "stderr",
       "text": [
        "Exception _mysql_exceptions.OperationalError: (2013, 'Lost connection to MySQL server during query') in <bound method Cursor.__del__ of <MySQLdb.cursors.Cursor object at 0x0484FF70>> ignored\n"
       ]
      },
      {
       "ename": "DatabaseError",
       "evalue": "(1318, 'Incorrect number of arguments for PROCEDURE projectsadna.SP_GET_WORDS_BY_FILE_ID; expected 1, got 0')",
       "output_type": "pyerr",
       "traceback": [
        "\u001b[1;31m---------------------------------------------------------------------------\u001b[0m\n\u001b[1;31mDatabaseError\u001b[0m                             Traceback (most recent call last)",
        "\u001b[1;32m<ipython-input-10-59740e4ae67b>\u001b[0m in \u001b[0;36m<module>\u001b[1;34m()\u001b[0m\n\u001b[0;32m      5\u001b[0m \u001b[1;31m#stats_list = query_to_list('CALL SP_GET_STATS_BY_FILE_ID(%s)',[1])\u001b[0m\u001b[1;33m\u001b[0m\u001b[1;33m\u001b[0m\u001b[0m\n\u001b[0;32m      6\u001b[0m \u001b[0mcursor\u001b[0m \u001b[1;33m=\u001b[0m \u001b[0mconnection\u001b[0m\u001b[1;33m.\u001b[0m\u001b[0mcursor\u001b[0m\u001b[1;33m(\u001b[0m\u001b[1;33m)\u001b[0m\u001b[1;33m\u001b[0m\u001b[0m\n\u001b[1;32m----> 7\u001b[1;33m \u001b[0mcursor\u001b[0m\u001b[1;33m.\u001b[0m\u001b[0mexecute\u001b[0m\u001b[1;33m(\u001b[0m\u001b[1;34m'CALL SP_GET_WORDS_BY_FILE_ID();'\u001b[0m\u001b[1;33m)\u001b[0m\u001b[1;33m\u001b[0m\u001b[0m\n\u001b[0m\u001b[0;32m      8\u001b[0m \u001b[0mcursor\u001b[0m\u001b[1;33m.\u001b[0m\u001b[0mfetchall\u001b[0m\u001b[1;33m(\u001b[0m\u001b[1;33m)\u001b[0m\u001b[1;33m\u001b[0m\u001b[0m\n\u001b[0;32m      9\u001b[0m \u001b[1;32mprint\u001b[0m \u001b[0mconnection\u001b[0m\u001b[1;33m.\u001b[0m\u001b[0mqueries\u001b[0m\u001b[1;33m\u001b[0m\u001b[0m\n",
        "\u001b[1;32mC:\\Python27\\lib\\site-packages\\django\\db\\backends\\util.pyc\u001b[0m in \u001b[0;36mexecute\u001b[1;34m(self, sql, params)\u001b[0m\n\u001b[0;32m     39\u001b[0m         \u001b[0mstart\u001b[0m \u001b[1;33m=\u001b[0m \u001b[0mtime\u001b[0m\u001b[1;33m(\u001b[0m\u001b[1;33m)\u001b[0m\u001b[1;33m\u001b[0m\u001b[0m\n\u001b[0;32m     40\u001b[0m         \u001b[1;32mtry\u001b[0m\u001b[1;33m:\u001b[0m\u001b[1;33m\u001b[0m\u001b[0m\n\u001b[1;32m---> 41\u001b[1;33m             \u001b[1;32mreturn\u001b[0m \u001b[0mself\u001b[0m\u001b[1;33m.\u001b[0m\u001b[0mcursor\u001b[0m\u001b[1;33m.\u001b[0m\u001b[0mexecute\u001b[0m\u001b[1;33m(\u001b[0m\u001b[0msql\u001b[0m\u001b[1;33m,\u001b[0m \u001b[0mparams\u001b[0m\u001b[1;33m)\u001b[0m\u001b[1;33m\u001b[0m\u001b[0m\n\u001b[0m\u001b[0;32m     42\u001b[0m         \u001b[1;32mfinally\u001b[0m\u001b[1;33m:\u001b[0m\u001b[1;33m\u001b[0m\u001b[0m\n\u001b[0;32m     43\u001b[0m             \u001b[0mstop\u001b[0m \u001b[1;33m=\u001b[0m \u001b[0mtime\u001b[0m\u001b[1;33m(\u001b[0m\u001b[1;33m)\u001b[0m\u001b[1;33m\u001b[0m\u001b[0m\n",
        "\u001b[1;32mC:\\Python27\\lib\\site-packages\\django\\db\\backends\\mysql\\base.pyc\u001b[0m in \u001b[0;36mexecute\u001b[1;34m(self, query, args)\u001b[0m\n\u001b[0;32m    126\u001b[0m             \u001b[1;32mif\u001b[0m \u001b[0me\u001b[0m\u001b[1;33m[\u001b[0m\u001b[1;36m0\u001b[0m\u001b[1;33m]\u001b[0m \u001b[1;32min\u001b[0m \u001b[0mself\u001b[0m\u001b[1;33m.\u001b[0m\u001b[0mcodes_for_integrityerror\u001b[0m\u001b[1;33m:\u001b[0m\u001b[1;33m\u001b[0m\u001b[0m\n\u001b[0;32m    127\u001b[0m                 \u001b[0msix\u001b[0m\u001b[1;33m.\u001b[0m\u001b[0mreraise\u001b[0m\u001b[1;33m(\u001b[0m\u001b[0mutils\u001b[0m\u001b[1;33m.\u001b[0m\u001b[0mIntegrityError\u001b[0m\u001b[1;33m,\u001b[0m \u001b[0mutils\u001b[0m\u001b[1;33m.\u001b[0m\u001b[0mIntegrityError\u001b[0m\u001b[1;33m(\u001b[0m\u001b[1;33m*\u001b[0m\u001b[0mtuple\u001b[0m\u001b[1;33m(\u001b[0m\u001b[0me\u001b[0m\u001b[1;33m.\u001b[0m\u001b[0margs\u001b[0m\u001b[1;33m)\u001b[0m\u001b[1;33m)\u001b[0m\u001b[1;33m,\u001b[0m \u001b[0msys\u001b[0m\u001b[1;33m.\u001b[0m\u001b[0mexc_info\u001b[0m\u001b[1;33m(\u001b[0m\u001b[1;33m)\u001b[0m\u001b[1;33m[\u001b[0m\u001b[1;36m2\u001b[0m\u001b[1;33m]\u001b[0m\u001b[1;33m)\u001b[0m\u001b[1;33m\u001b[0m\u001b[0m\n\u001b[1;32m--> 128\u001b[1;33m             \u001b[0msix\u001b[0m\u001b[1;33m.\u001b[0m\u001b[0mreraise\u001b[0m\u001b[1;33m(\u001b[0m\u001b[0mutils\u001b[0m\u001b[1;33m.\u001b[0m\u001b[0mDatabaseError\u001b[0m\u001b[1;33m,\u001b[0m \u001b[0mutils\u001b[0m\u001b[1;33m.\u001b[0m\u001b[0mDatabaseError\u001b[0m\u001b[1;33m(\u001b[0m\u001b[1;33m*\u001b[0m\u001b[0mtuple\u001b[0m\u001b[1;33m(\u001b[0m\u001b[0me\u001b[0m\u001b[1;33m.\u001b[0m\u001b[0margs\u001b[0m\u001b[1;33m)\u001b[0m\u001b[1;33m)\u001b[0m\u001b[1;33m,\u001b[0m \u001b[0msys\u001b[0m\u001b[1;33m.\u001b[0m\u001b[0mexc_info\u001b[0m\u001b[1;33m(\u001b[0m\u001b[1;33m)\u001b[0m\u001b[1;33m[\u001b[0m\u001b[1;36m2\u001b[0m\u001b[1;33m]\u001b[0m\u001b[1;33m)\u001b[0m\u001b[1;33m\u001b[0m\u001b[0m\n\u001b[0m\u001b[0;32m    129\u001b[0m         \u001b[1;32mexcept\u001b[0m \u001b[0mDatabase\u001b[0m\u001b[1;33m.\u001b[0m\u001b[0mDatabaseError\u001b[0m \u001b[1;32mas\u001b[0m \u001b[0me\u001b[0m\u001b[1;33m:\u001b[0m\u001b[1;33m\u001b[0m\u001b[0m\n\u001b[0;32m    130\u001b[0m             \u001b[0msix\u001b[0m\u001b[1;33m.\u001b[0m\u001b[0mreraise\u001b[0m\u001b[1;33m(\u001b[0m\u001b[0mutils\u001b[0m\u001b[1;33m.\u001b[0m\u001b[0mDatabaseError\u001b[0m\u001b[1;33m,\u001b[0m \u001b[0mutils\u001b[0m\u001b[1;33m.\u001b[0m\u001b[0mDatabaseError\u001b[0m\u001b[1;33m(\u001b[0m\u001b[1;33m*\u001b[0m\u001b[0mtuple\u001b[0m\u001b[1;33m(\u001b[0m\u001b[0me\u001b[0m\u001b[1;33m.\u001b[0m\u001b[0margs\u001b[0m\u001b[1;33m)\u001b[0m\u001b[1;33m)\u001b[0m\u001b[1;33m,\u001b[0m \u001b[0msys\u001b[0m\u001b[1;33m.\u001b[0m\u001b[0mexc_info\u001b[0m\u001b[1;33m(\u001b[0m\u001b[1;33m)\u001b[0m\u001b[1;33m[\u001b[0m\u001b[1;36m2\u001b[0m\u001b[1;33m]\u001b[0m\u001b[1;33m)\u001b[0m\u001b[1;33m\u001b[0m\u001b[0m\n",
        "\u001b[1;32mC:\\Python27\\lib\\site-packages\\django\\db\\backends\\mysql\\base.pyc\u001b[0m in \u001b[0;36mexecute\u001b[1;34m(self, query, args)\u001b[0m\n\u001b[0;32m    118\u001b[0m     \u001b[1;32mdef\u001b[0m \u001b[0mexecute\u001b[0m\u001b[1;33m(\u001b[0m\u001b[0mself\u001b[0m\u001b[1;33m,\u001b[0m \u001b[0mquery\u001b[0m\u001b[1;33m,\u001b[0m \u001b[0margs\u001b[0m\u001b[1;33m=\u001b[0m\u001b[0mNone\u001b[0m\u001b[1;33m)\u001b[0m\u001b[1;33m:\u001b[0m\u001b[1;33m\u001b[0m\u001b[0m\n\u001b[0;32m    119\u001b[0m         \u001b[1;32mtry\u001b[0m\u001b[1;33m:\u001b[0m\u001b[1;33m\u001b[0m\u001b[0m\n\u001b[1;32m--> 120\u001b[1;33m             \u001b[1;32mreturn\u001b[0m \u001b[0mself\u001b[0m\u001b[1;33m.\u001b[0m\u001b[0mcursor\u001b[0m\u001b[1;33m.\u001b[0m\u001b[0mexecute\u001b[0m\u001b[1;33m(\u001b[0m\u001b[0mquery\u001b[0m\u001b[1;33m,\u001b[0m \u001b[0margs\u001b[0m\u001b[1;33m)\u001b[0m\u001b[1;33m\u001b[0m\u001b[0m\n\u001b[0m\u001b[0;32m    121\u001b[0m         \u001b[1;32mexcept\u001b[0m \u001b[0mDatabase\u001b[0m\u001b[1;33m.\u001b[0m\u001b[0mIntegrityError\u001b[0m \u001b[1;32mas\u001b[0m \u001b[0me\u001b[0m\u001b[1;33m:\u001b[0m\u001b[1;33m\u001b[0m\u001b[0m\n\u001b[0;32m    122\u001b[0m             \u001b[0msix\u001b[0m\u001b[1;33m.\u001b[0m\u001b[0mreraise\u001b[0m\u001b[1;33m(\u001b[0m\u001b[0mutils\u001b[0m\u001b[1;33m.\u001b[0m\u001b[0mIntegrityError\u001b[0m\u001b[1;33m,\u001b[0m \u001b[0mutils\u001b[0m\u001b[1;33m.\u001b[0m\u001b[0mIntegrityError\u001b[0m\u001b[1;33m(\u001b[0m\u001b[1;33m*\u001b[0m\u001b[0mtuple\u001b[0m\u001b[1;33m(\u001b[0m\u001b[0me\u001b[0m\u001b[1;33m.\u001b[0m\u001b[0margs\u001b[0m\u001b[1;33m)\u001b[0m\u001b[1;33m)\u001b[0m\u001b[1;33m,\u001b[0m \u001b[0msys\u001b[0m\u001b[1;33m.\u001b[0m\u001b[0mexc_info\u001b[0m\u001b[1;33m(\u001b[0m\u001b[1;33m)\u001b[0m\u001b[1;33m[\u001b[0m\u001b[1;36m2\u001b[0m\u001b[1;33m]\u001b[0m\u001b[1;33m)\u001b[0m\u001b[1;33m\u001b[0m\u001b[0m\n",
        "\u001b[1;32mC:\\Python27\\lib\\site-packages\\MySQLdb\\cursors.pyc\u001b[0m in \u001b[0;36mexecute\u001b[1;34m(self, query, args)\u001b[0m\n\u001b[0;32m    200\u001b[0m             \u001b[1;32mdel\u001b[0m \u001b[0mtb\u001b[0m\u001b[1;33m\u001b[0m\u001b[0m\n\u001b[0;32m    201\u001b[0m             \u001b[0mself\u001b[0m\u001b[1;33m.\u001b[0m\u001b[0mmessages\u001b[0m\u001b[1;33m.\u001b[0m\u001b[0mappend\u001b[0m\u001b[1;33m(\u001b[0m\u001b[1;33m(\u001b[0m\u001b[0mexc\u001b[0m\u001b[1;33m,\u001b[0m \u001b[0mvalue\u001b[0m\u001b[1;33m)\u001b[0m\u001b[1;33m)\u001b[0m\u001b[1;33m\u001b[0m\u001b[0m\n\u001b[1;32m--> 202\u001b[1;33m             \u001b[0mself\u001b[0m\u001b[1;33m.\u001b[0m\u001b[0merrorhandler\u001b[0m\u001b[1;33m(\u001b[0m\u001b[0mself\u001b[0m\u001b[1;33m,\u001b[0m \u001b[0mexc\u001b[0m\u001b[1;33m,\u001b[0m \u001b[0mvalue\u001b[0m\u001b[1;33m)\u001b[0m\u001b[1;33m\u001b[0m\u001b[0m\n\u001b[0m\u001b[0;32m    203\u001b[0m         \u001b[0mself\u001b[0m\u001b[1;33m.\u001b[0m\u001b[0m_executed\u001b[0m \u001b[1;33m=\u001b[0m \u001b[0mquery\u001b[0m\u001b[1;33m\u001b[0m\u001b[0m\n\u001b[0;32m    204\u001b[0m         \u001b[1;32mif\u001b[0m \u001b[1;32mnot\u001b[0m \u001b[0mself\u001b[0m\u001b[1;33m.\u001b[0m\u001b[0m_defer_warnings\u001b[0m\u001b[1;33m:\u001b[0m \u001b[0mself\u001b[0m\u001b[1;33m.\u001b[0m\u001b[0m_warning_check\u001b[0m\u001b[1;33m(\u001b[0m\u001b[1;33m)\u001b[0m\u001b[1;33m\u001b[0m\u001b[0m\n",
        "\u001b[1;32mC:\\Python27\\lib\\site-packages\\MySQLdb\\connections.pyc\u001b[0m in \u001b[0;36mdefaulterrorhandler\u001b[1;34m(***failed resolving arguments***)\u001b[0m\n\u001b[0;32m     34\u001b[0m     \u001b[1;32mdel\u001b[0m \u001b[0mcursor\u001b[0m\u001b[1;33m\u001b[0m\u001b[0m\n\u001b[0;32m     35\u001b[0m     \u001b[1;32mdel\u001b[0m \u001b[0mconnection\u001b[0m\u001b[1;33m\u001b[0m\u001b[0m\n\u001b[1;32m---> 36\u001b[1;33m     \u001b[1;32mraise\u001b[0m \u001b[0merrorclass\u001b[0m\u001b[1;33m,\u001b[0m \u001b[0merrorvalue\u001b[0m\u001b[1;33m\u001b[0m\u001b[0m\n\u001b[0m\u001b[0;32m     37\u001b[0m \u001b[1;33m\u001b[0m\u001b[0m\n\u001b[0;32m     38\u001b[0m \u001b[0mre_numeric_part\u001b[0m \u001b[1;33m=\u001b[0m \u001b[0mre\u001b[0m\u001b[1;33m.\u001b[0m\u001b[0mcompile\u001b[0m\u001b[1;33m(\u001b[0m\u001b[1;34mr\"^(\\d+)\"\u001b[0m\u001b[1;33m)\u001b[0m\u001b[1;33m\u001b[0m\u001b[0m\n",
        "\u001b[1;31mDatabaseError\u001b[0m: (1318, 'Incorrect number of arguments for PROCEDURE projectsadna.SP_GET_WORDS_BY_FILE_ID; expected 1, got 0')"
       ]
      }
     ],
     "prompt_number": 10
    },
    {
     "cell_type": "code",
     "collapsed": false,
     "input": [
      "def dictfetchall(cursor):\n",
      "    \"Returns all rows from a cursor as a dict\"\n",
      "    desc = cursor.description\n",
      "    return [\n",
      "        dict(zip([col[0] for col in desc], row))\n",
      "        for row in cursor.fetchall()\n",
      "    ]\n",
      "\n",
      "def call_an_sp(sp,var):\n",
      "    cursor = connection.cursor()\n",
      "    cursor.callproc(sp, (var,))\n",
      "    return dictfetchall(cursor)\n",
      "    msg = cursor.fetchone()\n",
      "    print msg\n",
      "    #cursor.fetchall()\n",
      "    #print create_dict_from_cursor(cursor)\n",
      "\n",
      "    #cursor.execute('FETCH ALL IN \"%s\"' % msg)\n",
      "    #thing = create_dict_from_cursor(cursor)\n",
      "    #cursor.close()    \n",
      "    #return thing\n",
      "    #return fn_generic(cursor)\n",
      "\n",
      "\n",
      "def fn_generic(cursor):\n",
      "    msg = cursor.fetchone()[0]\n",
      "    cursor.execute('FETCH ALL IN \"%s\"' % msg)\n",
      "    thing = create_dict_from_cursor(cursor)\n",
      "    cursor.close()\n",
      "    return thing\n",
      "\n",
      "def create_dict_from_cursor(cursor):\n",
      "    rows = cursor.fetchall()\n",
      "    print rows\n",
      "    # DEBUG settings (used to) affect what gets returned. \n",
      "    if False:\n",
      "        desc = [item[0] for item in cursor.cursor.description]\n",
      "    else:\n",
      "        desc = [item[0] for item in cursor.description]\n",
      "    return [dict(zip(desc, item)) for item in rows] \n",
      "\n",
      "stats_list = call_an_sp('SP_GET_STATS_BY_FILE_ID',None)\n",
      "print stats_list\n",
      "print stats_list[0]['avg_wordlength']\n",
      "for key in stats_list[0].keys():\n",
      "   print \"%s: {{ stat.%s }}<br>\" % (key,key)"
     ],
     "language": "python",
     "metadata": {},
     "outputs": [
      {
       "output_type": "stream",
       "stream": "stdout",
       "text": [
        "[{'avg_wordlength': Decimal('7.17'), 'max_filewords': 72927L, 'min_wordlength': 0L, 'avg_filewords': Decimal('36963.00'), 'max_sentencelength': Decimal('1391'), 'min_filelength': Decimal('5400'), 'min_sentencelength': Decimal('1'), 'min_filewords': 999L, 'max_filelength': Decimal('311645'), 'avg_sentencewords': Decimal('14.49'), 'avg_filelength': Decimal('158522.50'), 'avg_sentencelength': Decimal('62.14'), 'max_wordlength': 27L, 'max_sentencewords': 272L, 'min_sentencewords': 1L}]\n",
        "7.17\n",
        "avg_wordlength: {{ stat.avg_wordlength }}<br>\n",
        "max_filewords: {{ stat.max_filewords }}<br>\n",
        "min_wordlength: {{ stat.min_wordlength }}<br>\n",
        "avg_filewords: {{ stat.avg_filewords }}<br>\n",
        "max_sentencelength: {{ stat.max_sentencelength }}<br>\n",
        "min_filelength: {{ stat.min_filelength }}<br>\n",
        "min_sentencelength: {{ stat.min_sentencelength }}<br>\n",
        "min_filewords: {{ stat.min_filewords }}<br>\n",
        "max_filelength: {{ stat.max_filelength }}<br>\n",
        "avg_sentencewords: {{ stat.avg_sentencewords }}<br>\n",
        "avg_filelength: {{ stat.avg_filelength }}<br>\n",
        "avg_sentencelength: {{ stat.avg_sentencelength }}<br>\n",
        "max_wordlength: {{ stat.max_wordlength }}<br>\n",
        "max_sentencewords: {{ stat.max_sentencewords }}<br>\n",
        "min_sentencewords: {{ stat.min_sentencewords }}<br>\n"
       ]
      }
     ],
     "prompt_number": 45
    },
    {
     "cell_type": "code",
     "collapsed": false,
     "input": [
      "d = {'avg_wordlength': Decimal('7.165955483'), 'max_filewords': 72927L, 'min_wordlength': 0L, 'avg_filewords': Decimal('36963.000000000'), 'max_sentencelength': Decimal('1391'), 'min_filelength': Decimal('5400'), 'min_sentencelength': Decimal('1'), 'min_filewords': 999L, 'max_filelength': Decimal('311645'), 'avg_sentencewords': Decimal('14.489611916'), 'avg_filelength': Decimal('158522.500000000'), 'avg_sentencelength': Decimal('62.141317130'), 'max_wordlength': 27L, 'max_sentencewords': 272L, 'min_sentencewords': 1L}\n",
      "#d['max_filewords']\n",
      "#for key in d.keys():\n",
      "#   print \"key: %s , value: %s\" % (key, d[key])"
     ],
     "language": "python",
     "metadata": {},
     "outputs": [
      {
       "ename": "NameError",
       "evalue": "name 'Decimal' is not defined",
       "output_type": "pyerr",
       "traceback": [
        "\u001b[1;31m---------------------------------------------------------------------------\u001b[0m\n\u001b[1;31mNameError\u001b[0m                                 Traceback (most recent call last)",
        "\u001b[1;32m<ipython-input-38-cc9192c2046b>\u001b[0m in \u001b[0;36m<module>\u001b[1;34m()\u001b[0m\n\u001b[1;32m----> 1\u001b[1;33m \u001b[0md\u001b[0m \u001b[1;33m=\u001b[0m \u001b[1;33m{\u001b[0m\u001b[1;34m'avg_wordlength'\u001b[0m\u001b[1;33m:\u001b[0m \u001b[0mDecimal\u001b[0m\u001b[1;33m(\u001b[0m\u001b[1;34m'7.165955483'\u001b[0m\u001b[1;33m)\u001b[0m\u001b[1;33m,\u001b[0m \u001b[1;34m'max_filewords'\u001b[0m\u001b[1;33m:\u001b[0m \u001b[1;36m72927L\u001b[0m\u001b[1;33m,\u001b[0m \u001b[1;34m'min_wordlength'\u001b[0m\u001b[1;33m:\u001b[0m \u001b[1;36m0L\u001b[0m\u001b[1;33m,\u001b[0m \u001b[1;34m'avg_filewords'\u001b[0m\u001b[1;33m:\u001b[0m \u001b[0mDecimal\u001b[0m\u001b[1;33m(\u001b[0m\u001b[1;34m'36963.000000000'\u001b[0m\u001b[1;33m)\u001b[0m\u001b[1;33m,\u001b[0m \u001b[1;34m'max_sentencelength'\u001b[0m\u001b[1;33m:\u001b[0m \u001b[0mDecimal\u001b[0m\u001b[1;33m(\u001b[0m\u001b[1;34m'1391'\u001b[0m\u001b[1;33m)\u001b[0m\u001b[1;33m,\u001b[0m \u001b[1;34m'min_filelength'\u001b[0m\u001b[1;33m:\u001b[0m \u001b[0mDecimal\u001b[0m\u001b[1;33m(\u001b[0m\u001b[1;34m'5400'\u001b[0m\u001b[1;33m)\u001b[0m\u001b[1;33m,\u001b[0m \u001b[1;34m'min_sentencelength'\u001b[0m\u001b[1;33m:\u001b[0m \u001b[0mDecimal\u001b[0m\u001b[1;33m(\u001b[0m\u001b[1;34m'1'\u001b[0m\u001b[1;33m)\u001b[0m\u001b[1;33m,\u001b[0m \u001b[1;34m'min_filewords'\u001b[0m\u001b[1;33m:\u001b[0m \u001b[1;36m999L\u001b[0m\u001b[1;33m,\u001b[0m \u001b[1;34m'max_filelength'\u001b[0m\u001b[1;33m:\u001b[0m \u001b[0mDecimal\u001b[0m\u001b[1;33m(\u001b[0m\u001b[1;34m'311645'\u001b[0m\u001b[1;33m)\u001b[0m\u001b[1;33m,\u001b[0m \u001b[1;34m'avg_sentencewords'\u001b[0m\u001b[1;33m:\u001b[0m \u001b[0mDecimal\u001b[0m\u001b[1;33m(\u001b[0m\u001b[1;34m'14.489611916'\u001b[0m\u001b[1;33m)\u001b[0m\u001b[1;33m,\u001b[0m \u001b[1;34m'avg_filelength'\u001b[0m\u001b[1;33m:\u001b[0m \u001b[0mDecimal\u001b[0m\u001b[1;33m(\u001b[0m\u001b[1;34m'158522.500000000'\u001b[0m\u001b[1;33m)\u001b[0m\u001b[1;33m,\u001b[0m \u001b[1;34m'avg_sentencelength'\u001b[0m\u001b[1;33m:\u001b[0m \u001b[0mDecimal\u001b[0m\u001b[1;33m(\u001b[0m\u001b[1;34m'62.141317130'\u001b[0m\u001b[1;33m)\u001b[0m\u001b[1;33m,\u001b[0m \u001b[1;34m'max_wordlength'\u001b[0m\u001b[1;33m:\u001b[0m \u001b[1;36m27L\u001b[0m\u001b[1;33m,\u001b[0m \u001b[1;34m'max_sentencewords'\u001b[0m\u001b[1;33m:\u001b[0m \u001b[1;36m272L\u001b[0m\u001b[1;33m,\u001b[0m \u001b[1;34m'min_sentencewords'\u001b[0m\u001b[1;33m:\u001b[0m \u001b[1;36m1L\u001b[0m\u001b[1;33m}\u001b[0m\u001b[1;33m\u001b[0m\u001b[0m\n\u001b[0m\u001b[0;32m      2\u001b[0m \u001b[1;31m#d['max_filewords']\u001b[0m\u001b[1;33m\u001b[0m\u001b[1;33m\u001b[0m\u001b[0m\n\u001b[0;32m      3\u001b[0m \u001b[1;31m#for key in d.keys():\u001b[0m\u001b[1;33m\u001b[0m\u001b[1;33m\u001b[0m\u001b[0m\n\u001b[0;32m      4\u001b[0m \u001b[1;31m#   print \"key: %s , value: %s\" % (key, d[key])\u001b[0m\u001b[1;33m\u001b[0m\u001b[1;33m\u001b[0m\u001b[0m\n",
        "\u001b[1;31mNameError\u001b[0m: name 'Decimal' is not defined"
       ]
      }
     ],
     "prompt_number": 38
    }
   ],
   "metadata": {}
  }
 ]
}