{
 "metadata": {
  "name": "",
  "signature": "sha256:15afe4ed19056085cf97b5ea8f59bde7858c051d931c2f6e931561c3f2c17ee6"
 },
 "nbformat": 3,
 "nbformat_minor": 0,
 "worksheets": [
  {
   "cells": [
    {
     "cell_type": "code",
     "collapsed": false,
     "input": [
      "import re\n",
      "def get_words_from_string(s):\n",
      "    return set(re.findall(re.compile('\\w+'), s.lower()))\n",
      "\n",
      "def get_words_from_file(fname):\n",
      "    with open(fname, 'rb') as inf:\n",
      "        return get_words_from_string(inf.read())\n",
      "\n",
      "def all_words(needle, haystack):\n",
      "    return set(needle).issubset(set(haystack))\n",
      "\n",
      "def any_words(needle, haystack):\n",
      "    return set(needle).intersection(set(haystack))\n",
      "\n",
      "def is_end_of_sentence(word):\n",
      "    import re\n",
      "    sentenceEnders = re.compile(r\"\"\"\n",
      "        # Split sentences on whitespace between them.\n",
      "        (?:               # Group for two positive lookbehinds.\n",
      "          (?<=[.!?])      # Either an end of sentence punct,\n",
      "        | (?<=[.!?]['\"])  # or end of sentence punct and quote.\n",
      "        )                 # End group of two positive lookbehinds.\n",
      "        (?<!  Mr\\.   )    # Don't end sentence on \"Mr.\"\n",
      "        (?<!  Mrs\\.  )    # Don't end sentence on \"Mrs.\"\n",
      "        (?<!  Jr\\.   )    # Don't end sentence on \"Jr.\"\n",
      "        (?<!  Dr\\.   )    # Don't end sentence on \"Dr.\"\n",
      "        (?<!  Prof\\. )    # Don't end sentence on \"Prof.\"\n",
      "        (?<!  Sr\\.   )    # Don't end sentence on \"Sr.\"\n",
      "        #\\s+               # Split on whitespace between sentences.\n",
      "        \"\"\", \n",
      "        re.IGNORECASE | re.VERBOSE)\n",
      "    return sentenceEnders.search(word) is not None"
     ],
     "language": "python",
     "metadata": {},
     "outputs": [],
     "prompt_number": 43
    },
    {
     "cell_type": "code",
     "collapsed": false,
     "input": [
      "s = 'Hello my friend. This is Mr. a sample Text.\\nSecond line start here.'\n",
      "lines = s.splitlines()\n",
      "c_lines = 1\n",
      "c_words = 1\n",
      "c_sentence = 1\n",
      "for line in lines:\n",
      "    wordset = line.split()\n",
      "    for word in wordset:\n",
      "        print word + ' (' + re.sub('[^A-Za-z0-9]+', '', word) + ')'\n",
      "        print 'line: ' + str(c_lines) + ' word: ' + str(c_words) + ' sentence: ' + str(c_sentence) \n",
      "        if is_end_of_sentence(word): c_sentence += 1\n",
      "        print Word.objects.filter(value=word).exists()\n",
      "        print '-----'\n",
      "        c_words += 1\n",
      "    c_lines += 1\n",
      "#wordset"
     ],
     "language": "python",
     "metadata": {},
     "outputs": [
      {
       "output_type": "stream",
       "stream": "stdout",
       "text": [
        "Hello (Hello)\n",
        "line: 1 word: 1 sentence: 1\n",
        "None\n",
        "False"
       ]
      },
      {
       "output_type": "stream",
       "stream": "stdout",
       "text": [
        "\n",
        "-----\n",
        "my (my)\n",
        "line: 1 word: 2 sentence: 1\n",
        "None\n",
        "False"
       ]
      },
      {
       "output_type": "stream",
       "stream": "stdout",
       "text": [
        "\n",
        "-----\n",
        "friend. (friend)\n",
        "line: 1 word: 3 sentence: 1\n",
        "<_sre.SRE_Match object at 0x0475CE20>\n",
        "False"
       ]
      },
      {
       "output_type": "stream",
       "stream": "stdout",
       "text": [
        "\n",
        "-----\n",
        "This (This)\n",
        "line: 1 word: 4 sentence: 2\n",
        "None\n",
        "False"
       ]
      },
      {
       "output_type": "stream",
       "stream": "stdout",
       "text": [
        "\n",
        "-----\n",
        "is (is)\n",
        "line: 1 word: 5 sentence: 2\n",
        "None\n",
        "False"
       ]
      },
      {
       "output_type": "stream",
       "stream": "stdout",
       "text": [
        "\n",
        "-----\n",
        "Mr. (Mr)\n",
        "line: 1 word: 6 sentence: 2\n",
        "None\n",
        "False"
       ]
      },
      {
       "output_type": "stream",
       "stream": "stdout",
       "text": [
        "\n",
        "-----\n",
        "a (a)\n",
        "line: 1 word: 7 sentence: 2\n",
        "None\n",
        "False"
       ]
      },
      {
       "output_type": "stream",
       "stream": "stdout",
       "text": [
        "\n",
        "-----\n",
        "sample (sample)\n",
        "line: 1 word: 8 sentence: 2\n",
        "None\n",
        "False"
       ]
      },
      {
       "output_type": "stream",
       "stream": "stdout",
       "text": [
        "\n",
        "-----\n",
        "Text. (Text)\n",
        "line: 1 word: 9 sentence: 2\n",
        "<_sre.SRE_Match object at 0x0475CE20>\n",
        "False"
       ]
      },
      {
       "output_type": "stream",
       "stream": "stdout",
       "text": [
        "\n",
        "-----\n",
        "Second (Second)\n",
        "line: 2 word: 10 sentence: 3\n",
        "None\n",
        "False"
       ]
      },
      {
       "output_type": "stream",
       "stream": "stdout",
       "text": [
        "\n",
        "-----\n",
        "line (line)\n",
        "line: 2 word: 11 sentence: 3\n",
        "None\n",
        "False"
       ]
      },
      {
       "output_type": "stream",
       "stream": "stdout",
       "text": [
        "\n",
        "-----\n",
        "start (start)\n",
        "line: 2 word: 12 sentence: 3\n",
        "None\n",
        "False"
       ]
      },
      {
       "output_type": "stream",
       "stream": "stdout",
       "text": [
        "\n",
        "-----\n",
        "here. (here)\n",
        "line: 2 word: 13 sentence: 3\n",
        "<_sre.SRE_Match object at 0x0475CE20>\n",
        "False"
       ]
      },
      {
       "output_type": "stream",
       "stream": "stdout",
       "text": [
        "\n",
        "-----\n"
       ]
      }
     ],
     "prompt_number": 47
    },
    {
     "cell_type": "code",
     "collapsed": false,
     "input": [
      "sentenceEnders = re.compile(r\"\"\"\n",
      "        # Split sentences on whitespace between them.\n",
      "        (?:               # Group for two positive lookbehinds.\n",
      "          (?<=[.!?])      # Either an end of sentence punct,\n",
      "        | (?<=[.!?]['\"])  # or end of sentence punct and quote.\n",
      "        )                 # End group of two positive lookbehinds.\n",
      "        (?<!  Mr\\.   )    # Don't end sentence on \"Mr.\"\n",
      "        (?<!  Mrs\\.  )    # Don't end sentence on \"Mrs.\"\n",
      "        (?<!  Jr\\.   )    # Don't end sentence on \"Jr.\"\n",
      "        (?<!  Dr\\.   )    # Don't end sentence on \"Dr.\"\n",
      "        (?<!  Prof\\. )    # Don't end sentence on \"Prof.\"\n",
      "        (?<!  Sr\\.   )    # Don't end sentence on \"Sr.\"\n",
      "        #\\s+                Split on whitespace between sentences.\n",
      "        \"\"\", \n",
      "        re.IGNORECASE | re.VERBOSE)\n",
      "print sentenceEnders.search('Hey!')"
     ],
     "language": "python",
     "metadata": {},
     "outputs": [
      {
       "output_type": "stream",
       "stream": "stdout",
       "text": [
        "<_sre.SRE_Match object at 0x03398838>\n"
       ]
      }
     ],
     "prompt_number": 40
    },
    {
     "cell_type": "code",
     "collapsed": false,
     "input": [
      "Word.objects.get(value='hey')\n"
     ],
     "language": "python",
     "metadata": {},
     "outputs": [
      {
       "ename": "DoesNotExist",
       "evalue": "Word matching query does not exist. Lookup parameters were {'value': 'hey'}",
       "output_type": "pyerr",
       "traceback": [
        "\u001b[1;31m---------------------------------------------------------------------------\u001b[0m\n\u001b[1;31mDoesNotExist\u001b[0m                              Traceback (most recent call last)",
        "\u001b[1;32m<ipython-input-48-02d09ab9d733>\u001b[0m in \u001b[0;36m<module>\u001b[1;34m()\u001b[0m\n\u001b[1;32m----> 1\u001b[1;33m \u001b[0mWord\u001b[0m\u001b[1;33m.\u001b[0m\u001b[0mobjects\u001b[0m\u001b[1;33m.\u001b[0m\u001b[0mget\u001b[0m\u001b[1;33m(\u001b[0m\u001b[0mvalue\u001b[0m\u001b[1;33m=\u001b[0m\u001b[1;34m'hey'\u001b[0m\u001b[1;33m)\u001b[0m\u001b[1;33m\u001b[0m\u001b[0m\n\u001b[0m",
        "\u001b[1;32mC:\\Python27\\lib\\site-packages\\django\\db\\models\\manager.pyc\u001b[0m in \u001b[0;36mget\u001b[1;34m(self, *args, **kwargs)\u001b[0m\n\u001b[0;32m    141\u001b[0m \u001b[1;33m\u001b[0m\u001b[0m\n\u001b[0;32m    142\u001b[0m     \u001b[1;32mdef\u001b[0m \u001b[0mget\u001b[0m\u001b[1;33m(\u001b[0m\u001b[0mself\u001b[0m\u001b[1;33m,\u001b[0m \u001b[1;33m*\u001b[0m\u001b[0margs\u001b[0m\u001b[1;33m,\u001b[0m \u001b[1;33m**\u001b[0m\u001b[0mkwargs\u001b[0m\u001b[1;33m)\u001b[0m\u001b[1;33m:\u001b[0m\u001b[1;33m\u001b[0m\u001b[0m\n\u001b[1;32m--> 143\u001b[1;33m         \u001b[1;32mreturn\u001b[0m \u001b[0mself\u001b[0m\u001b[1;33m.\u001b[0m\u001b[0mget_query_set\u001b[0m\u001b[1;33m(\u001b[0m\u001b[1;33m)\u001b[0m\u001b[1;33m.\u001b[0m\u001b[0mget\u001b[0m\u001b[1;33m(\u001b[0m\u001b[1;33m*\u001b[0m\u001b[0margs\u001b[0m\u001b[1;33m,\u001b[0m \u001b[1;33m**\u001b[0m\u001b[0mkwargs\u001b[0m\u001b[1;33m)\u001b[0m\u001b[1;33m\u001b[0m\u001b[0m\n\u001b[0m\u001b[0;32m    144\u001b[0m \u001b[1;33m\u001b[0m\u001b[0m\n\u001b[0;32m    145\u001b[0m     \u001b[1;32mdef\u001b[0m \u001b[0mget_or_create\u001b[0m\u001b[1;33m(\u001b[0m\u001b[0mself\u001b[0m\u001b[1;33m,\u001b[0m \u001b[1;33m**\u001b[0m\u001b[0mkwargs\u001b[0m\u001b[1;33m)\u001b[0m\u001b[1;33m:\u001b[0m\u001b[1;33m\u001b[0m\u001b[0m\n",
        "\u001b[1;32mC:\\Python27\\lib\\site-packages\\django\\db\\models\\query.pyc\u001b[0m in \u001b[0;36mget\u001b[1;34m(self, *args, **kwargs)\u001b[0m\n\u001b[0;32m    387\u001b[0m                 \u001b[1;34m\"%s matching query does not exist. \"\u001b[0m\u001b[1;33m\u001b[0m\u001b[0m\n\u001b[0;32m    388\u001b[0m                 \u001b[1;34m\"Lookup parameters were %s\"\u001b[0m \u001b[1;33m%\u001b[0m\u001b[1;33m\u001b[0m\u001b[0m\n\u001b[1;32m--> 389\u001b[1;33m                 (self.model._meta.object_name, kwargs))\n\u001b[0m\u001b[0;32m    390\u001b[0m         raise self.model.MultipleObjectsReturned(\n\u001b[0;32m    391\u001b[0m             \u001b[1;34m\"get() returned more than one %s -- it returned %s! \"\u001b[0m\u001b[1;33m\u001b[0m\u001b[0m\n",
        "\u001b[1;31mDoesNotExist\u001b[0m: Word matching query does not exist. Lookup parameters were {'value': 'hey'}"
       ]
      }
     ],
     "prompt_number": 48
    },
    {
     "cell_type": "code",
     "collapsed": false,
     "input": [
      "from django.conf import settings\n",
      "from django.core.files import File as pFile\n",
      "print settings.MEDIA_ROOT\n",
      "print settings.DATABASES\n",
      "thisfile = File.objects.all()[0]\n",
      "thisfile.original.path\n",
      "#print thisfile\n",
      "f = open(thisfile.original.path, 'r')\n",
      "orgfile = pFile(f)\n",
      "print thisfile.original.path\n",
      "fulltext = orgfile.read()\n",
      "#print fulltext\n",
      "thisfile.loadtext(fulltext)\n",
      "#fulltext"
     ],
     "language": "python",
     "metadata": {},
     "outputs": [
      {
       "output_type": "stream",
       "stream": "stdout",
       "text": [
        "d:\\sadna\n",
        "{'default': {'ENGINE': 'django.db.backends.mysql', 'TEST_MIRROR': None, 'NAME': 'projectsadna', 'TEST_CHARSET': None, 'TIME_ZONE': 'UTC', 'TEST_COLLATION': None, 'OPTIONS': {}, 'HOST': '127.0.0.1', 'USER': 'root', 'TEST_NAME': None, 'PASSWORD': '', 'PORT': '3306'}}\n",
        "d:\\sadna\\textfiles\\TheAdventuresOfTomSawyer.txt\n"
       ]
      }
     ],
     "prompt_number": 4
    },
    {
     "cell_type": "code",
     "collapsed": false,
     "input": [
      "import os\n",
      "LOGFILE_ROOT = os.environ['FEEDSME_LOG_PATH']\n",
      "print LOGFILE_ROOT"
     ],
     "language": "python",
     "metadata": {},
     "outputs": [
      {
       "output_type": "stream",
       "stream": "stdout",
       "text": [
        "C:\\Feedsme\\Logs\\\n"
       ]
      }
     ],
     "prompt_number": 6
    }
   ],
   "metadata": {}
  }
 ]
}